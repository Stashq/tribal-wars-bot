{
 "cells": [
  {
   "cell_type": "code",
   "execution_count": 111,
   "metadata": {},
   "outputs": [],
   "source": [
    "import json\n",
    "from lxml.html import HtmlElement\n",
    "import lxml.html\n",
    "from typing import List\n",
    "import requests\n",
    "\n",
    "\n",
    "base_url = 'https://help.plemiona.pl/wiki/'\n",
    "\n",
    "\n",
    "def get_lvl_costs(tree: HtmlElement, col_nr: int) -> List[int]:\n",
    "    els = tree.xpath('//*[@id=\"mw-content-text\"]/div/table[1]/tbody/tr/td[%d]' % col_nr)\n",
    "    if len(els) == 1:\n",
    "        els = tree.xpath('//*[@id=\"mw-content-text\"]/div/table[2]/tbody/tr/td[%d]' % col_nr)\n",
    "    resource = []\n",
    "    for el in els:\n",
    "        try:\n",
    "            resource += [int(el.text_content().replace('.', ''))]\n",
    "        except:\n",
    "            pass\n",
    "\n",
    "    return resource\n",
    "\n",
    "\n",
    "def get_costs_from_tree(tree: HtmlElement):\n",
    "    woods = get_lvl_costs(tree, 2)\n",
    "    stones = get_lvl_costs(tree, 3)\n",
    "    irons = get_lvl_costs(tree, 4)\n",
    "\n",
    "    return (\n",
    "        woods, stones, irons\n",
    "    )\n",
    "\n",
    "\n",
    "def get_building_cost(building: str, end_lvl: int = None, start_lvl: int = None, sum_up: bool = True):\n",
    "    response = requests.get(base_url + building)\n",
    "    if response.status_code < 400:\n",
    "        tree = lxml.html.fromstring(response.text)\n",
    "        cost = get_costs_from_tree(tree)\n",
    "        if sum_up:\n",
    "            cost = (\n",
    "            sum(cost[0][start_lvl-1:end_lvl+1]),\n",
    "            sum(cost[1][start_lvl-1:end_lvl+1]),\n",
    "            sum(cost[2][start_lvl-1:end_lvl+1])\n",
    "        )\n",
    "    else:\n",
    "        print(\"Bad status: %d\" % response.status_code)\n",
    "        cost = None\n",
    "    return cost"
   ]
  },
  {
   "cell_type": "markdown",
   "metadata": {},
   "source": [
    "Getting all costs and saving it to file"
   ]
  },
  {
   "cell_type": "code",
   "execution_count": 112,
   "metadata": {},
   "outputs": [],
   "source": [
    "# building_names = [\n",
    "#     'Ratusz', 'Koszary', 'Stajnia', 'Warsztat', 'Kuźnia', 'Plac', 'Rynek',\n",
    "#     'Tartak', 'Cegielnia', 'Huta żelaza', 'Zagroda', 'Spichlerz', 'Schowek',\n",
    "#     'Mur obronny', 'Pałac', 'Piedestał', 'Kościół', 'Pierwszy Kościół', 'Wieża Strażnicza']\n",
    "\n",
    "# building_costs = {}\n",
    "# for name in building_names:\n",
    "#     try:\n",
    "#         building_costs[name] = get_building_cost(name, sum_up=False)\n",
    "#     except Exception as e:\n",
    "#         print(\"Error for %s.\" % name)\n",
    "#         print(e)"
   ]
  },
  {
   "cell_type": "code",
   "execution_count": 113,
   "metadata": {},
   "outputs": [],
   "source": [
    "# with open(\"data/building_costs.json\", \"w\") as file:\n",
    "#     json.dump(building_costs, file)"
   ]
  }
 ],
 "metadata": {
  "interpreter": {
   "hash": "1c7ea0925e25a84732dae24abd09667b964bb4d58174702a7b63cc196ff9bff2"
  },
  "kernelspec": {
   "display_name": "Python 3.8.12 ('.venv': poetry)",
   "language": "python",
   "name": "python3"
  },
  "language_info": {
   "codemirror_mode": {
    "name": "ipython",
    "version": 3
   },
   "file_extension": ".py",
   "mimetype": "text/x-python",
   "name": "python",
   "nbconvert_exporter": "python",
   "pygments_lexer": "ipython3",
   "version": "3.8.12"
  },
  "orig_nbformat": 4
 },
 "nbformat": 4,
 "nbformat_minor": 2
}
