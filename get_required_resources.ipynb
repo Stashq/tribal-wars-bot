{
 "cells": [
  {
   "cell_type": "code",
   "execution_count": 1,
   "metadata": {},
   "outputs": [],
   "source": [
    "import json\n",
    "from lxml.html import HtmlElement\n",
    "import lxml.html\n",
    "from typing import List\n",
    "import requests\n",
    "\n",
    "\n",
    "base_url = 'https://help.plemiona.pl/wiki/'\n",
    "\n",
    "\n",
    "def get_lvl_costs(tree: HtmlElement, col_nr: int) -> List[int]:\n",
    "    els = tree.xpath('//*[@id=\"mw-content-text\"]/div/table[1]/tbody/tr/td[%d]' % col_nr)\n",
    "    if len(els) == 1:\n",
    "        els = tree.xpath('//*[@id=\"mw-content-text\"]/div/table[2]/tbody/tr/td[%d]' % col_nr)\n",
    "    resource = []\n",
    "    for el in els:\n",
    "        try:\n",
    "            resource += [int(el.text_content().replace('.', ''))]\n",
    "        except:\n",
    "            pass\n",
    "\n",
    "    return resource\n",
    "\n",
    "\n",
    "def get_costs_from_tree(tree: HtmlElement):\n",
    "    woods = get_lvl_costs(tree, 2)\n",
    "    stones = get_lvl_costs(tree, 3)\n",
    "    irons = get_lvl_costs(tree, 4)\n",
    "\n",
    "    return (\n",
    "        woods, stones, irons\n",
    "    )\n",
    "\n",
    "\n",
    "def get_building_cost(building: str, end_lvl: int = None, start_lvl: int = None, sum_up: bool = True):\n",
    "    response = requests.get(base_url + building)\n",
    "    if response.status_code < 400:\n",
    "        tree = lxml.html.fromstring(response.text)\n",
    "        cost = get_costs_from_tree(tree)\n",
    "        if sum_up:\n",
    "            cost = (\n",
    "            sum(cost[0][start_lvl-1:end_lvl+1]),\n",
    "            sum(cost[1][start_lvl-1:end_lvl+1]),\n",
    "            sum(cost[2][start_lvl-1:end_lvl+1])\n",
    "        )\n",
    "    else:\n",
    "        print(\"Bad status: %d\" % response.status_code)\n",
    "        cost = None\n",
    "    return cost"
   ]
  },
  {
   "cell_type": "markdown",
   "metadata": {},
   "source": [
    "Getting all costs and saving it to file"
   ]
  },
  {
   "cell_type": "code",
   "execution_count": 2,
   "metadata": {},
   "outputs": [],
   "source": [
    "# building_names = [\n",
    "#     'Ratusz', 'Koszary', 'Stajnia', 'Warsztat', 'Kuźnia', 'Plac', 'Rynek',\n",
    "#     'Tartak', 'Cegielnia', 'Huta żelaza', 'Zagroda', 'Spichlerz', 'Schowek',\n",
    "#     'Mur obronny', 'Pałac', 'Piedestał', 'Kościół', 'Pierwszy Kościół', 'Wieża Strażnicza']\n",
    "\n",
    "# building_costs = {}\n",
    "# for name in building_names:\n",
    "#     try:\n",
    "#         building_costs[name] = get_building_cost(name, sum_up=False)\n",
    "#     except Exception as e:\n",
    "#         print(\"Error for %s.\" % name)\n",
    "#         print(e)"
   ]
  },
  {
   "cell_type": "code",
   "execution_count": 3,
   "metadata": {},
   "outputs": [],
   "source": [
    "# with open(\"data/building_costs.json\", \"w\") as file:\n",
    "#     json.dump(building_costs, file)"
   ]
  },
  {
   "cell_type": "markdown",
   "metadata": {},
   "source": [
    "Loading and counting requirenments"
   ]
  },
  {
   "cell_type": "code",
   "execution_count": 4,
   "metadata": {},
   "outputs": [],
   "source": [
    "with open(\"data/building_costs.json\", \"r\") as file:\n",
    "    building_costs = json.load(file)"
   ]
  },
  {
   "cell_type": "code",
   "execution_count": 15,
   "metadata": {},
   "outputs": [
    {
     "data": {
      "text/plain": [
       "[15806, 23272, 12432]"
      ]
     },
     "execution_count": 15,
     "metadata": {},
     "output_type": "execute_result"
    }
   ],
   "source": [
    "l_lvl, h_lvl = 17, 20\n",
    "building = \"Huta żelaza\"\n",
    "\n",
    "costs = [\n",
    "    sum(building_costs[building][0][l_lvl-1:h_lvl]),\n",
    "    sum(building_costs[building][1][l_lvl-1:h_lvl]),\n",
    "    sum(building_costs[building][2][l_lvl-1:h_lvl])]\n",
    "costs"
   ]
  },
  {
   "cell_type": "markdown",
   "metadata": {},
   "source": [
    "Cost of building palace"
   ]
  },
  {
   "cell_type": "code",
   "execution_count": 6,
   "metadata": {},
   "outputs": [
    {
     "data": {
      "text/plain": [
       "[159453, 172488, 152101]"
      ]
     },
     "execution_count": 6,
     "metadata": {},
     "output_type": "execute_result"
    }
   ],
   "source": [
    "l_lvl, h_lvl = 11, 20\n",
    "building = \"Ratusz\"\n",
    "ratusz = [\n",
    "    sum(building_costs[building][0][l_lvl-1:h_lvl]),\n",
    "    sum(building_costs[building][1][l_lvl-1:h_lvl]),\n",
    "    sum(building_costs[building][2][l_lvl-1:h_lvl])]\n",
    "\n",
    "l_lvl, h_lvl = 3, 20\n",
    "building = \"Kuźnia\"\n",
    "kuznia = [\n",
    "    sum(building_costs[building][0][l_lvl-1:h_lvl]),\n",
    "    sum(building_costs[building][1][l_lvl-1:h_lvl]),\n",
    "    sum(building_costs[building][2][l_lvl-1:h_lvl])]\n",
    "\n",
    "l_lvl, h_lvl = 1, 1\n",
    "building = \"Pałac\"\n",
    "palac = [\n",
    "    sum(building_costs[building][0][l_lvl-1:h_lvl]),\n",
    "    sum(building_costs[building][1][l_lvl-1:h_lvl]),\n",
    "    sum(building_costs[building][2][l_lvl-1:h_lvl])]\n",
    "\n",
    "moneta = [28000, 30000, 25000]\n",
    "\n",
    "koszt = [r + k + p + m for (r, k, p, m) in zip(ratusz, kuznia, palac, moneta)]\n",
    "koszt"
   ]
  },
  {
   "cell_type": "markdown",
   "metadata": {},
   "source": [
    "Cost of wood for mines"
   ]
  },
  {
   "cell_type": "code",
   "execution_count": 7,
   "metadata": {},
   "outputs": [
    {
     "data": {
      "text/plain": [
       "871902"
      ]
     },
     "execution_count": 7,
     "metadata": {},
     "output_type": "execute_result"
    }
   ],
   "source": [
    "l_lvl, h_lvl = 11, 30\n",
    "r_id = 1\n",
    "\n",
    "sum(\n",
    "    [sum(building_costs['Tartak'][r_id][l_lvl-1:h_lvl]),\n",
    "    sum(building_costs['Cegielnia'][r_id][l_lvl-1:h_lvl]),\n",
    "    sum(building_costs['Huta żelaza'][r_id][l_lvl-1:h_lvl])]\n",
    ")"
   ]
  },
  {
   "cell_type": "code",
   "execution_count": null,
   "metadata": {},
   "outputs": [],
   "source": []
  }
 ],
 "metadata": {
  "interpreter": {
   "hash": "1c7ea0925e25a84732dae24abd09667b964bb4d58174702a7b63cc196ff9bff2"
  },
  "kernelspec": {
   "display_name": "Python 3.8.12 ('.venv': poetry)",
   "language": "python",
   "name": "python3"
  },
  "language_info": {
   "codemirror_mode": {
    "name": "ipython",
    "version": 3
   },
   "file_extension": ".py",
   "mimetype": "text/x-python",
   "name": "python",
   "nbconvert_exporter": "python",
   "pygments_lexer": "ipython3",
   "version": "3.8.12"
  },
  "orig_nbformat": 4
 },
 "nbformat": 4,
 "nbformat_minor": 2
}
